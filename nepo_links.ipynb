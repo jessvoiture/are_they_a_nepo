{
 "cells": [
  {
   "cell_type": "code",
   "execution_count": 1,
   "id": "9d3ad038",
   "metadata": {},
   "outputs": [],
   "source": [
    "from bs4 import BeautifulSoup\n",
    "import pandas as pd\n",
    "import numpy as np\n",
    "import requests\n",
    "import re\n",
    "import wikipediaapi as wiki\n",
    "import spotipy\n",
    "import billboard"
   ]
  },
  {
   "cell_type": "code",
   "execution_count": 2,
   "id": "5cefc91c",
   "metadata": {},
   "outputs": [],
   "source": [
    "# Parent and Relative strings to search for in wikipedia infobox\n",
    "parent_pattern = re.compile('Parent|Relative')\n",
    "\n",
    "# url base\n",
    "wiki_url_base = \"https://en.wikipedia.org\" # wikipedia\n",
    "imdb_base_url = \"https://www.imdb.com\"\n",
    "\n",
    "# wikipedia language setting\n",
    "wiki_wiki = wiki.Wikipedia('en')\n",
    "\n",
    "# imdb links\n",
    "# Most Popular TV Shows as determined by IMDb Users\n",
    "url_pop_tv = \"https://www.imdb.com/chart/tvmeter?pf_rd_m=A2FGELUUNOQJNL&pf_rd_p=470df400-70d9-4f35-bb05-8646a1195842&pf_rd_r=DK1W37ZH61RXZP184X95&pf_rd_s=right-4&pf_rd_t=15506&pf_rd_i=toptv&ref_=chttvtp_ql_5\"\n",
    "\n",
    "# Most Popular Movies as determined by IMDb Users\n",
    "url_pop_mov = \"https://www.imdb.com/chart/moviemeter?pf_rd_m=A2FGELUUNOQJNL&pf_rd_p=470df400-70d9-4f35-bb05-8646a1195842&pf_rd_r=408FM1WEANBKDGP51PET&pf_rd_s=right-4&pf_rd_t=15506&pf_rd_i=top&ref_=chttp_ql_2\"\n",
    "\n",
    "# Top Box Office (US) - updated weekly\n",
    "url_box_office = \"https://www.imdb.com/chart/boxoffice?pf_rd_m=A2FGELUUNOQJNL&pf_rd_p=470df400-70d9-4f35-bb05-8646a1195842&pf_rd_r=KK2KJN75YN0PGF8Q79QK&pf_rd_s=right-4&pf_rd_t=15506&pf_rd_i=moviemeter&ref_=chtmvm_ql_1\""
   ]
  },
  {
   "cell_type": "code",
   "execution_count": 3,
   "id": "4316cf4f",
   "metadata": {},
   "outputs": [],
   "source": [
    "# given name of person, outputs parent links or false if none\n",
    "def wiki_scrape(name):\n",
    "    subject = name.replace(\" \", \"_\")\n",
    "    url = wiki_url_base + \"/wiki/\" + subject\n",
    "\n",
    "    # check if wiki page exists\n",
    "    wiki_page = wiki_wiki.page(subject)\n",
    "    does_page_exist = wiki_page.exists()\n",
    "\n",
    "    if does_page_exist is False :\n",
    "        return False # no wiki page -> not famous enough, not a nepo baby\n",
    "    \n",
    "    elif does_page_exist is True : \n",
    "        data = requests.get(url).text\n",
    "        soup = BeautifulSoup(data,'html.parser') # full page\n",
    "        \n",
    "        # check if infobox exists\n",
    "        infobox = soup.find(\"table\",{\"class\":\"infobox biography vcard\"}) # infobox\n",
    "        \n",
    "        if infobox is None :\n",
    "            return False # no infobox on wiki page -> not a nepo baby\n",
    "        else :\n",
    "            does_parent_field_exist = bool(re.search(\"Parent|Relative\", infobox.text)) # see if Parent or Relative field is listed in infobox\n",
    "        \n",
    "            if does_parent_field_exist is False :\n",
    "                return False # parent field not listed in infobox -> not a nepo baby\n",
    "            elif does_parent_field_exist is True :\n",
    "                parent_field = soup.find('th', string=parent_pattern).parent\n",
    "                parent_a_tags = parent_field.find_all('a')\n",
    "                if len(parent_a_tags) == 0 :\n",
    "                    return False # parents listed in infobox but not linked -> not a nepo baby\n",
    "                else : # nepo baby!\n",
    "                    parent_wiki_list = []\n",
    "                    for link in parent_field.find_all('a'):\n",
    "                        parent_wiki = link.get('href')\n",
    "                        parent_wiki_link = wiki_url_base + parent_wiki\n",
    "                        parent_wiki_list.append(parent_wiki_link)\n",
    "                        \n",
    "                        parent_wiki_list[:] = [x for x in parent_wiki_list if \"cite_note\" not in x] # cited entries are in <a href> tags so remove those links here\n",
    "    \n",
    "                return parent_wiki_list\n"
   ]
  },
  {
   "cell_type": "code",
   "execution_count": 4,
   "id": "60e00db0",
   "metadata": {},
   "outputs": [],
   "source": [
    "def pct_nepo(df, group_col):\n",
    "    df = df[[group_col, 'nepos']]\n",
    "    df = df[df.nepos != False].groupby(group_col).count() / df.groupby(group_col).count() * 100\n",
    "    df = df.rename(columns={'nepos': 'pct_nepo'})\n",
    "    return df"
   ]
  },
  {
   "cell_type": "code",
   "execution_count": 5,
   "id": "0f87d156",
   "metadata": {},
   "outputs": [],
   "source": [
    "def get_imdb_list_links(url):\n",
    "    page_data = requests.get(url).text\n",
    "    soup = BeautifulSoup(page_data,'html.parser')\n",
    "    \n",
    "    media_table = soup.find(\"table\", {\"class\":\"chart full-width\"}) \n",
    "    \n",
    "    all_links = []\n",
    "    \n",
    "    # media is linked twice in each row -- specify td (column) = 2 to avoid dupes\n",
    "    for tag in media_table.select(\"a\"):\n",
    "        all_links.append(imdb_base_url + tag[\"href\"])\n",
    "\n",
    "    # media is linked twice in each row \n",
    "    # tried select(\"td:nth-of-type(2) a\") in the for loop above but that didn't work for all imdb links\n",
    "    df = pd.DataFrame(columns=[\"link\"], data = all_links).drop_duplicates()\n",
    "   \n",
    "    return df"
   ]
  },
  {
   "cell_type": "code",
   "execution_count": 6,
   "id": "d62eda02",
   "metadata": {},
   "outputs": [],
   "source": [
    "def title_specs(url):\n",
    "    page_data =  requests.get(url).text\n",
    "    soup = BeautifulSoup(page_data,'html.parser')\n",
    "    \n",
    "    # TITLE\n",
    "    title = soup.find(\"h1\")\n",
    "    title = title.text\n",
    "    \n",
    "    # CAST\n",
    "    # grab top cast section of imdb page\n",
    "    top_cast = soup.find_all(\"a\", {\"class\": \"sc-36c36dd0-1 QSQgP\"})\n",
    "    \n",
    "    cast_list = []\n",
    "    \n",
    "    # get cast names\n",
    "    for a in top_cast:\n",
    "        cast_list.append(str(a.string))\n",
    "        \n",
    "    # IMDB RATING\n",
    "    rating_tag = soup.find(\"span\", {\"class\": \"sc-7ab21ed2-1 jGRxWM\"})\n",
    "    if rating_tag is None :\n",
    "        rating = np.nan # some shows are in the popular list but haven't actually been released yet so no rating\n",
    "    else :\n",
    "        rating = rating_tag.string\n",
    "        \n",
    "    return[title, cast_list, rating]"
   ]
  },
  {
   "cell_type": "code",
   "execution_count": 7,
   "id": "2af3d174",
   "metadata": {},
   "outputs": [],
   "source": [
    "def imdb_whole_shebang(url):\n",
    "    df = get_imdb_list_links(url)\n",
    "    df['imdb_info'] = df.apply(lambda row : title_specs(row['link']), axis=1)\n",
    "    df = pd.DataFrame(df[\"imdb_info\"].to_list(), columns=['title', 'cast', 'imdb_rating'])\n",
    "    df = df.explode('cast').reset_index(drop=True)\n",
    "    df.loc[:,\"nepos\"] = df.apply(lambda row : wiki_scrape(row['cast']), axis=1)\n",
    "    return df"
   ]
  },
  {
   "cell_type": "code",
   "execution_count": 8,
   "id": "d31ebce7",
   "metadata": {},
   "outputs": [],
   "source": [
    "pop_tv_df = imdb_whole_shebang(url_pop_tv)"
   ]
  },
  {
   "cell_type": "code",
   "execution_count": null,
   "id": "c2707960",
   "metadata": {},
   "outputs": [],
   "source": [
    "pop_tv_pct = pct_nepo(pop_tv_df, 'title')\n",
    "pop_tv_df_1 = pop_tv_df.merge(pop_tv_pct, on=['title'], how='left')\n",
    "pop_tv_df_1.to_csv(\"pop_tv.csv\")"
   ]
  },
  {
   "cell_type": "code",
   "execution_count": null,
   "id": "bd736101",
   "metadata": {},
   "outputs": [],
   "source": [
    "pop_mov_df = imdb_whole_shebang(url_pop_mov)"
   ]
  },
  {
   "cell_type": "code",
   "execution_count": null,
   "id": "ceb85e08",
   "metadata": {},
   "outputs": [],
   "source": [
    "box_office_df = imdb_whole_shebang(url_box_office)"
   ]
  },
  {
   "cell_type": "code",
   "execution_count": null,
   "id": "990e481d",
   "metadata": {},
   "outputs": [],
   "source": [
    "chart = billboard.ChartData('hot-100')"
   ]
  },
  {
   "cell_type": "code",
   "execution_count": null,
   "id": "8de130ff",
   "metadata": {},
   "outputs": [],
   "source": [
    "top_artists = billboard.ChartData(\"top-artists\", year='2021', fetch=True)"
   ]
  },
  {
   "cell_type": "code",
   "execution_count": null,
   "id": "fbb0777d",
   "metadata": {
    "scrolled": true
   },
   "outputs": [],
   "source": [
    "years_for_billboard_charts = ['2016', '2017', '2018', '2019', '2020', '2021']\n",
    "categories_for_billboard_charts = ['top-artists', 'top-rock-artists', 'top-r&b-artists', \n",
    "                                   'top-dance-electronic-artists', 'top-latin-artists']\n",
    "\n",
    "artists = []\n",
    "\n",
    "for yr in years_for_billboard_charts :\n",
    "    for category in categories_for_billboard_charts :\n",
    "        for i in billboard.ChartData(category, year=yr):\n",
    "            artists.append({'year': yr,\n",
    "                            'chart': category,\n",
    "                            'artist': i.artist})\n",
    "            \n",
    "artist_df = pd.DataFrame(artists)"
   ]
  },
  {
   "cell_type": "code",
   "execution_count": null,
   "id": "c67eb28b",
   "metadata": {},
   "outputs": [],
   "source": [
    "artist_df[\"nepos\"] = artist_df.apply(lambda row : wiki_scrape(row['Artist']), axis=1)"
   ]
  },
  {
   "cell_type": "code",
   "execution_count": null,
   "id": "7eae8dea",
   "metadata": {},
   "outputs": [],
   "source": [
    "artist_pct = pct_nepo(artist_df, 'Chart')"
   ]
  },
  {
   "cell_type": "code",
   "execution_count": null,
   "id": "4780d006",
   "metadata": {},
   "outputs": [],
   "source": [
    "pop_tv_df\n",
    "pop_tv_df.loc[:,\"nepos\"] = pop_tv_df.apply(lambda row : wiki_scrape(row['cast']), axis=1)"
   ]
  },
  {
   "cell_type": "code",
   "execution_count": 9,
   "id": "cefbc3ab",
   "metadata": {},
   "outputs": [
    {
     "data": {
      "text/html": [
       "<div>\n",
       "<style scoped>\n",
       "    .dataframe tbody tr th:only-of-type {\n",
       "        vertical-align: middle;\n",
       "    }\n",
       "\n",
       "    .dataframe tbody tr th {\n",
       "        vertical-align: top;\n",
       "    }\n",
       "\n",
       "    .dataframe thead th {\n",
       "        text-align: right;\n",
       "    }\n",
       "</style>\n",
       "<table border=\"1\" class=\"dataframe\">\n",
       "  <thead>\n",
       "    <tr style=\"text-align: right;\">\n",
       "      <th></th>\n",
       "      <th>title</th>\n",
       "      <th>cast</th>\n",
       "      <th>imdb_rating</th>\n",
       "      <th>nepos</th>\n",
       "    </tr>\n",
       "  </thead>\n",
       "  <tbody>\n",
       "    <tr>\n",
       "      <th>0</th>\n",
       "      <td>Stranger Things</td>\n",
       "      <td>Millie Bobby Brown</td>\n",
       "      <td>8.7</td>\n",
       "      <td>False</td>\n",
       "    </tr>\n",
       "    <tr>\n",
       "      <th>1</th>\n",
       "      <td>Stranger Things</td>\n",
       "      <td>Finn Wolfhard</td>\n",
       "      <td>8.7</td>\n",
       "      <td>False</td>\n",
       "    </tr>\n",
       "    <tr>\n",
       "      <th>2</th>\n",
       "      <td>Stranger Things</td>\n",
       "      <td>Winona Ryder</td>\n",
       "      <td>8.7</td>\n",
       "      <td>False</td>\n",
       "    </tr>\n",
       "    <tr>\n",
       "      <th>3</th>\n",
       "      <td>Stranger Things</td>\n",
       "      <td>David Harbour</td>\n",
       "      <td>8.7</td>\n",
       "      <td>False</td>\n",
       "    </tr>\n",
       "    <tr>\n",
       "      <th>4</th>\n",
       "      <td>Stranger Things</td>\n",
       "      <td>Gaten Matarazzo</td>\n",
       "      <td>8.7</td>\n",
       "      <td>False</td>\n",
       "    </tr>\n",
       "    <tr>\n",
       "      <th>...</th>\n",
       "      <td>...</td>\n",
       "      <td>...</td>\n",
       "      <td>...</td>\n",
       "      <td>...</td>\n",
       "    </tr>\n",
       "    <tr>\n",
       "      <th>1795</th>\n",
       "      <td>How I Met Your Mother</td>\n",
       "      <td>Jennifer Morrison</td>\n",
       "      <td>8.3</td>\n",
       "      <td>False</td>\n",
       "    </tr>\n",
       "    <tr>\n",
       "      <th>1796</th>\n",
       "      <td>How I Met Your Mother</td>\n",
       "      <td>Wayne Brady</td>\n",
       "      <td>8.3</td>\n",
       "      <td>False</td>\n",
       "    </tr>\n",
       "    <tr>\n",
       "      <th>1797</th>\n",
       "      <td>How I Met Your Mother</td>\n",
       "      <td>Bill Fagerbakke</td>\n",
       "      <td>8.3</td>\n",
       "      <td>False</td>\n",
       "    </tr>\n",
       "    <tr>\n",
       "      <th>1798</th>\n",
       "      <td>How I Met Your Mother</td>\n",
       "      <td>Ellen D. Williams</td>\n",
       "      <td>8.3</td>\n",
       "      <td>False</td>\n",
       "    </tr>\n",
       "    <tr>\n",
       "      <th>1799</th>\n",
       "      <td>How I Met Your Mother</td>\n",
       "      <td>Chris Elliott</td>\n",
       "      <td>8.3</td>\n",
       "      <td>[https://en.wikipedia.org/wiki/Bob_Elliott_(co...</td>\n",
       "    </tr>\n",
       "  </tbody>\n",
       "</table>\n",
       "<p>1800 rows × 4 columns</p>\n",
       "</div>"
      ],
      "text/plain": [
       "                      title                cast imdb_rating  \\\n",
       "0           Stranger Things  Millie Bobby Brown         8.7   \n",
       "1           Stranger Things       Finn Wolfhard         8.7   \n",
       "2           Stranger Things        Winona Ryder         8.7   \n",
       "3           Stranger Things       David Harbour         8.7   \n",
       "4           Stranger Things     Gaten Matarazzo         8.7   \n",
       "...                     ...                 ...         ...   \n",
       "1795  How I Met Your Mother   Jennifer Morrison         8.3   \n",
       "1796  How I Met Your Mother         Wayne Brady         8.3   \n",
       "1797  How I Met Your Mother     Bill Fagerbakke         8.3   \n",
       "1798  How I Met Your Mother   Ellen D. Williams         8.3   \n",
       "1799  How I Met Your Mother       Chris Elliott         8.3   \n",
       "\n",
       "                                                  nepos  \n",
       "0                                                 False  \n",
       "1                                                 False  \n",
       "2                                                 False  \n",
       "3                                                 False  \n",
       "4                                                 False  \n",
       "...                                                 ...  \n",
       "1795                                              False  \n",
       "1796                                              False  \n",
       "1797                                              False  \n",
       "1798                                              False  \n",
       "1799  [https://en.wikipedia.org/wiki/Bob_Elliott_(co...  \n",
       "\n",
       "[1800 rows x 4 columns]"
      ]
     },
     "execution_count": 9,
     "metadata": {},
     "output_type": "execute_result"
    }
   ],
   "source": [
    "pop_tv_df"
   ]
  },
  {
   "cell_type": "code",
   "execution_count": null,
   "id": "383f538e",
   "metadata": {},
   "outputs": [],
   "source": []
  }
 ],
 "metadata": {
  "kernelspec": {
   "display_name": "Python 3 (ipykernel)",
   "language": "python",
   "name": "python3"
  },
  "language_info": {
   "codemirror_mode": {
    "name": "ipython",
    "version": 3
   },
   "file_extension": ".py",
   "mimetype": "text/x-python",
   "name": "python",
   "nbconvert_exporter": "python",
   "pygments_lexer": "ipython3",
   "version": "3.9.5"
  }
 },
 "nbformat": 4,
 "nbformat_minor": 5
}
